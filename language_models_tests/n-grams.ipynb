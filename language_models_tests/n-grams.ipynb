{
 "cells": [
  {
   "cell_type": "markdown",
   "metadata": {},
   "source": [
    "# n-grams"
   ]
  },
  {
   "cell_type": "code",
   "execution_count": 5,
   "metadata": {},
   "outputs": [],
   "source": [
    "data = \"\"\"Jack and Jill went up the hill \\\n",
    "To fetch a pail of water \\\n",
    "Jack fell down and broke his crown \\\n",
    "And Jill came tumbling after. Jack and Jill\"\"\""
   ]
  },
  {
   "cell_type": "code",
   "execution_count": 2,
   "metadata": {},
   "outputs": [],
   "source": [
    "#with open(\"pride and prejudice.txt\") as file: # Use file to refer to the file object\n",
    "#    data = file.read()\n",
    "\n",
    "#with open(\"Consumer_Complaints.csv\") as file: # Use file to refer to the file object\n",
    "#    data = file.read()    \n"
   ]
  },
  {
   "cell_type": "code",
   "execution_count": 4,
   "metadata": {},
   "outputs": [
    {
     "data": {
      "text/plain": [
       "'Date received,Product,Sub-product,Issue,Sub-issue,Consumer complaint narrative,Company public response,Company,State,ZIP code,Tags,Consumer consent provided?,Submitted via,Date sent to company,Company response to consumer,Timely response?,Consumer disputed?,Complaint ID\\n07/15/2019,Debt collection,Other debt,Attempts to collect debt not owed,Debt was result of identity theft,,Company believes it acted appropriately as authorized by contract or law,\"Sequium Asset Solutions, LLC\",FL,,,,Web,07/15/2019,Closed with explanation,Yes,N/A,3307245\\n07/15/2019,\"Credit reporting, credit repair services, or other personal consumer reports\",Credit reporting,Incorrect information on your report,Information is missing that should be on the report,,,\"Credit Karma, Inc.\",MO,63112,,N/A,Phone,07/15/2019,Closed with explanation,Yes,N/A,3306859\\n07/15/2019,Debt collection,Other debt,Written notification about debt,Didn\\'t receive notice of right to dispute,,,Riverwalk Financial Corporation,NY,12590,,,Web,07/15/'"
      ]
     },
     "execution_count": 4,
     "metadata": {},
     "output_type": "execute_result"
    }
   ],
   "source": [
    "data[0:1000]"
   ]
  },
  {
   "cell_type": "code",
   "execution_count": 6,
   "metadata": {
    "scrolled": false
   },
   "outputs": [
    {
     "name": "stdout",
     "output_type": "stream",
     "text": [
      "134\n"
     ]
    }
   ],
   "source": [
    "print(len(data))\n",
    "d=data.split(' ')\n",
    "\n",
    "#dictionary of bigrams\n",
    "gram2={}\n",
    "\n",
    "for i in range(len(d)-1):\n",
    "    bigram=(d[i],d[i+1])\n",
    "    if bigram in gram2.keys():\n",
    "        gram2[bigram] += 1\n",
    "    else:\n",
    "        gram2[bigram] = 1\n",
    "#print(gram2)\n",
    "    #print(d[i]+ ' ' + d[i+1])\n"
   ]
  },
  {
   "cell_type": "code",
   "execution_count": 7,
   "metadata": {},
   "outputs": [],
   "source": [
    "# unigrams to calculate number of times a bigram (xy) starts by x\n",
    "\n",
    "#dictionary of bigrams\n",
    "gram1={}\n",
    "\n",
    "for i in range(len(d)-1):\n",
    "    gram=(d[i])\n",
    "    if gram in gram1.keys():\n",
    "        gram1[gram] += 1\n",
    "    else:\n",
    "        gram1[gram] = 1\n",
    "#print(gram1)\n",
    "    #print(d[i]+ ' ' + d[i+1])\n",
    "\n"
   ]
  },
  {
   "cell_type": "code",
   "execution_count": 8,
   "metadata": {},
   "outputs": [
    {
     "name": "stdout",
     "output_type": "stream",
     "text": [
      "('Jack', 'and') 0.6666666666666666\n",
      "('and', 'Jill') 0.6666666666666666\n",
      "('Jill', 'went') 0.5\n",
      "('went', 'up') 1.0\n",
      "('up', 'the') 1.0\n",
      "('the', 'hill') 1.0\n",
      "('hill', 'To') 1.0\n",
      "('To', 'fetch') 1.0\n",
      "('fetch', 'a') 1.0\n",
      "('a', 'pail') 1.0\n",
      "('pail', 'of') 1.0\n",
      "('of', 'water') 1.0\n",
      "('water', 'Jack') 1.0\n",
      "('Jack', 'fell') 0.3333333333333333\n",
      "('fell', 'down') 1.0\n",
      "('down', 'and') 1.0\n",
      "('and', 'broke') 0.3333333333333333\n",
      "('broke', 'his') 1.0\n",
      "('his', 'crown') 1.0\n",
      "('crown', 'And') 1.0\n",
      "('And', 'Jill') 1.0\n",
      "('Jill', 'came') 0.5\n",
      "('came', 'tumbling') 1.0\n",
      "('tumbling', 'after.') 1.0\n",
      "('after.', 'Jack') 1.0\n"
     ]
    }
   ],
   "source": [
    "for bigram in gram2:\n",
    "    bigram_freq=gram2[bigram]\n",
    "    word1_freq=gram1[bigram[0]]\n",
    "    #print(bigram,gram2[bigram]/)\n",
    "    print(bigram,bigram_freq/word1_freq)\n",
    "    "
   ]
  },
  {
   "cell_type": "code",
   "execution_count": 7,
   "metadata": {},
   "outputs": [],
   "source": [
    "from keras.preprocessing.text import Tokenizer\n",
    "# integer encode text\n",
    "tokenizer = Tokenizer()\n",
    "tokenizer.fit_on_texts([data])\n",
    "encoded = tokenizer.texts_to_sequences([data])[0]"
   ]
  },
  {
   "cell_type": "code",
   "execution_count": 9,
   "metadata": {},
   "outputs": [
    {
     "data": {
      "text/plain": [
       "[2,\n",
       " 1,\n",
       " 3,\n",
       " 4,\n",
       " 5,\n",
       " 6,\n",
       " 7,\n",
       " 8,\n",
       " 9,\n",
       " 10,\n",
       " 11,\n",
       " 12,\n",
       " 13,\n",
       " 2,\n",
       " 14,\n",
       " 15,\n",
       " 1,\n",
       " 16,\n",
       " 17,\n",
       " 18,\n",
       " 1,\n",
       " 3,\n",
       " 19,\n",
       " 20,\n",
       " 21]"
      ]
     },
     "execution_count": 9,
     "metadata": {},
     "output_type": "execute_result"
    }
   ],
   "source": [
    "encoded"
   ]
  },
  {
   "cell_type": "code",
   "execution_count": null,
   "metadata": {},
   "outputs": [],
   "source": []
  }
 ],
 "metadata": {
  "kernelspec": {
   "display_name": "Python 3",
   "language": "python",
   "name": "python3"
  }
 },
 "nbformat": 4,
 "nbformat_minor": 2
}
